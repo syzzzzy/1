# 验证 SUMO 安装
!sumo --version

# 设置环境变量
import os
os.environ['SUMO_HOME'] = '/usr/share/sumo'

# 运行简单仿真
!sumo -c sumo_config.sumocfg --no-warnings --no-gui

# 解析结果
import pandas as pd
from lxml import etree

tripinfo = etree.parse("tripinfo.xml")
speeds = [float(e.get('speed')) for e in tripinfo.findall(".//tripinfo")]
print(f"平均速度: {sum(speeds)/len(speeds):.2f} m/s")
